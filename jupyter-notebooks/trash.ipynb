{
 "cells": [
  {
   "cell_type": "code",
   "execution_count": null,
   "id": "1bdb5cab-da5b-4828-b38d-72edfddd930c",
   "metadata": {},
   "outputs": [],
   "source": [
    "def scrape_vendor(url):\n",
    "    print(url)\n",
    "    vendor_page = BeautifulSoup(requests.get(url).content, \"html.parser\")\n",
    "    stats_table = vendor_page.find(class_=\"stats\")\n",
    "    # print(stats_table.prettify())\n",
    "    for i, row in enumerate(stats_table.find_all(\"tr\")):\n",
    "        # print(i, row.prettify())\n",
    "        l = list(map(lambda x: x.get_text().strip(), row.find_all(class_=\"num\")))\n",
    "        print(i, l)\n",
    "    "
   ]
  },
  {
   "cell_type": "code",
   "execution_count": null,
   "id": "1b1a0232-598d-4241-8498-0e297c9048b7",
   "metadata": {},
   "outputs": [],
   "source": [
    "def scrape_top50(url):\n",
    "    page = requests.get(top_50)\n",
    "\n",
    "    soup = BeautifulSoup(page.content, \"html.parser\")\n",
    "\n",
    "    list_table = soup.find(class_=\"listtable\")\n",
    "    # print(list_table.prettify())\n",
    "    for i, tr in enumerate(list_table.find_all(\"tr\")):\n",
    "        # print(i, tr)\n",
    "        if i != 0 :\n",
    "\n",
    "            row_num, vname, numpro, numvul, *_ = tr.find_all(\"td\")\n",
    "            print(list(map(lambda x: x.get_text().strip(),(vname, numpro, numvul))))\n",
    "            vendor_url = base_url + vname.find(\"a\")[\"href\"]\n",
    "            scrape_vendor(vendor_url)"
   ]
  }
 ],
 "metadata": {
  "kernelspec": {
   "display_name": "Python 3 (ipykernel)",
   "language": "python",
   "name": "python3"
  },
  "language_info": {
   "codemirror_mode": {
    "name": "ipython",
    "version": 3
   },
   "file_extension": ".py",
   "mimetype": "text/x-python",
   "name": "python",
   "nbconvert_exporter": "python",
   "pygments_lexer": "ipython3",
   "version": "3.8.6"
  }
 },
 "nbformat": 4,
 "nbformat_minor": 5
}
