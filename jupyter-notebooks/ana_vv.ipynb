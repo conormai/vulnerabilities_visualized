{
 "cells": [
  {
   "cell_type": "code",
   "execution_count": 1,
   "metadata": {},
   "outputs": [],
   "source": [
    "import pandas as pd\n",
    "import numpy as np"
   ]
  },
  {
   "cell_type": "code",
   "execution_count": 6,
   "metadata": {},
   "outputs": [
    {
     "data": {
      "text/plain": [
       "Index(['#', 'CVE ID', 'CWE ID', '# of Exploits', 'Vulnerability Type(s)',\n",
       "       'Publish Date', 'Update Date', 'Score', 'Gained Access Level', 'Access',\n",
       "       'Complexity', 'Authentication', 'Confidentiality', 'Integrity',\n",
       "       'Availability', 'Desc', 'Vendor', 'Product'],\n",
       "      dtype='object')"
      ]
     },
     "execution_count": 6,
     "metadata": {},
     "output_type": "execute_result"
    }
   ],
   "source": [
    "all_vul = pd.read_csv(\"vul_data_desc.csv\")\n",
    "all_vul.shape\n",
    "all_vul.columns"
   ]
  },
  {
   "cell_type": "code",
   "execution_count": 13,
   "metadata": {},
   "outputs": [
    {
     "data": {
      "text/html": [
       "<div>\n",
       "<style scoped>\n",
       "    .dataframe tbody tr th:only-of-type {\n",
       "        vertical-align: middle;\n",
       "    }\n",
       "\n",
       "    .dataframe tbody tr th {\n",
       "        vertical-align: top;\n",
       "    }\n",
       "\n",
       "    .dataframe thead th {\n",
       "        text-align: right;\n",
       "    }\n",
       "</style>\n",
       "<table border=\"1\" class=\"dataframe\">\n",
       "  <thead>\n",
       "    <tr style=\"text-align: right;\">\n",
       "      <th></th>\n",
       "      <th>#</th>\n",
       "      <th>CVE ID</th>\n",
       "      <th>CWE ID</th>\n",
       "      <th># of Exploits</th>\n",
       "      <th>Vulnerability Type(s)</th>\n",
       "      <th>Publish Date</th>\n",
       "      <th>Update Date</th>\n",
       "      <th>Score</th>\n",
       "      <th>Gained Access Level</th>\n",
       "      <th>Access</th>\n",
       "      <th>Complexity</th>\n",
       "      <th>Authentication</th>\n",
       "      <th>Confidentiality</th>\n",
       "      <th>Integrity</th>\n",
       "      <th>Availability</th>\n",
       "      <th>Desc</th>\n",
       "      <th>Vendor</th>\n",
       "      <th>Product</th>\n",
       "    </tr>\n",
       "  </thead>\n",
       "  <tbody>\n",
       "  </tbody>\n",
       "</table>\n",
       "</div>"
      ],
      "text/plain": [
       "Empty DataFrame\n",
       "Columns: [#, CVE ID, CWE ID, # of Exploits, Vulnerability Type(s), Publish Date, Update Date, Score, Gained Access Level, Access, Complexity, Authentication, Confidentiality, Integrity, Availability, Desc, Vendor, Product]\n",
       "Index: []"
      ]
     },
     "execution_count": 13,
     "metadata": {},
     "output_type": "execute_result"
    }
   ],
   "source": [
    "# These are the types of vulnerabilityes\n",
    "all_vul[all_vul['CVE ID'] == 'CVE-1999-0357']"
   ]
  },
  {
   "cell_type": "code",
   "execution_count": 4,
   "metadata": {},
   "outputs": [
    {
     "data": {
      "text/plain": [
       "Jenkins             9296\n",
       "IBM                 2753\n",
       "Linaro              2429\n",
       "Linux               2316\n",
       "Rust-lang           2182\n",
       "Ffmpeg              2053\n",
       "Lock Api Project    1835\n",
       "Huge-it             1690\n",
       "Canonical           1584\n",
       "Wireshark           1478\n",
       "Anblik              1475\n",
       "Actix               1468\n",
       "Inveniosoftware     1388\n",
       "Microsoft           1352\n",
       "Typo3               1261\n",
       "Dtracker Project    1180\n",
       "Arr Project         1101\n",
       "Google              1082\n",
       "Zohocorp            1080\n",
       "Debian              1079\n",
       "Name: Vendor, dtype: int64"
      ]
     },
     "execution_count": 4,
     "metadata": {},
     "output_type": "execute_result"
    }
   ],
   "source": [
    "# These are the Vendors\n",
    "all_vul[\"Vendor\"].value_counts().head(20)"
   ]
  },
  {
   "cell_type": "code",
   "execution_count": 8,
   "metadata": {},
   "outputs": [
    {
     "data": {
      "text/plain": [
       "Internet Explorer            430\n",
       "Windows 2003 Server          266\n",
       "Windows 2000                 211\n",
       "Windows 7                     84\n",
       "Windows Xp                    68\n",
       "Psexec                        50\n",
       "IE                            49\n",
       "JET                           36\n",
       "Windows Me                    34\n",
       "Outlook Express               34\n",
       "Windows 95                    18\n",
       "Windows Nt                    18\n",
       "Virtual Machine               18\n",
       "Frontpage                     18\n",
       "Systems Management Server     18\n",
       "Name: Product, dtype: int64"
      ]
     },
     "execution_count": 8,
     "metadata": {},
     "output_type": "execute_result"
    }
   ],
   "source": [
    "# The Product of Microsoft\n",
    "all_vul[all_vul[\"Vendor\"] == \"Microsoft\"][\"Product\"].value_counts()"
   ]
  },
  {
   "cell_type": "code",
   "execution_count": null,
   "metadata": {},
   "outputs": [],
   "source": []
  }
 ],
 "metadata": {
  "interpreter": {
   "hash": "916dbcbb3f70747c44a77c7bcd40155683ae19c65e1c03b4aa3499c5328201f1"
  },
  "kernelspec": {
   "display_name": "Python 3.8.10 64-bit",
   "name": "python3"
  },
  "language_info": {
   "codemirror_mode": {
    "name": "ipython",
    "version": 3
   },
   "file_extension": ".py",
   "mimetype": "text/x-python",
   "name": "python",
   "nbconvert_exporter": "python",
   "pygments_lexer": "ipython3",
   "version": "3.8.10"
  },
  "orig_nbformat": 4
 },
 "nbformat": 4,
 "nbformat_minor": 2
}
