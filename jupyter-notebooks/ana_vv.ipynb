{
 "cells": [
  {
   "cell_type": "code",
   "execution_count": 1,
   "metadata": {},
   "outputs": [],
   "source": [
    "import pandas as pd\n",
    "import numpy as np"
   ]
  },
  {
   "cell_type": "code",
   "execution_count": 2,
   "metadata": {},
   "outputs": [
    {
     "data": {
      "text/plain": [
       "(162250, 17)"
      ]
     },
     "execution_count": 2,
     "metadata": {},
     "output_type": "execute_result"
    }
   ],
   "source": [
    "all_vul = pd.read_csv(\"vul_data.csv\")\n",
    "all_vul.shape"
   ]
  },
  {
   "cell_type": "code",
   "execution_count": 3,
   "metadata": {},
   "outputs": [
    {
     "data": {
      "text/plain": [
       "XSS                   24203\n",
       "+Info                  9406\n",
       "Exec Code              9262\n",
       "DoS                    9252\n",
       "Exec Code Sql          8968\n",
       "Sql                    6772\n",
       "Exec Code Overflow     5754\n",
       "Dir. Trav.             5128\n",
       "DoS Overflow           3747\n",
       "Bypass                 3580\n",
       "Name: Vulnerability Type(s), dtype: int64"
      ]
     },
     "execution_count": 3,
     "metadata": {},
     "output_type": "execute_result"
    }
   ],
   "source": [
    "# These are the types of vulnerabilityes\n",
    "all_vul[\"Vulnerability Type(s)\"].value_counts().head(10)"
   ]
  },
  {
   "cell_type": "code",
   "execution_count": 4,
   "metadata": {},
   "outputs": [
    {
     "data": {
      "text/plain": [
       "Jenkins             9296\n",
       "IBM                 2753\n",
       "Linaro              2429\n",
       "Linux               2316\n",
       "Rust-lang           2182\n",
       "Ffmpeg              2053\n",
       "Lock Api Project    1835\n",
       "Huge-it             1690\n",
       "Canonical           1584\n",
       "Wireshark           1478\n",
       "Anblik              1475\n",
       "Actix               1468\n",
       "Inveniosoftware     1388\n",
       "Microsoft           1352\n",
       "Typo3               1261\n",
       "Dtracker Project    1180\n",
       "Arr Project         1101\n",
       "Google              1082\n",
       "Zohocorp            1080\n",
       "Debian              1079\n",
       "Name: Vendor, dtype: int64"
      ]
     },
     "execution_count": 4,
     "metadata": {},
     "output_type": "execute_result"
    }
   ],
   "source": [
    "# These are the Vendors\n",
    "all_vul[\"Vendor\"].value_counts().head(20)"
   ]
  },
  {
   "cell_type": "code",
   "execution_count": 8,
   "metadata": {},
   "outputs": [
    {
     "data": {
      "text/plain": [
       "Internet Explorer            430\n",
       "Windows 2003 Server          266\n",
       "Windows 2000                 211\n",
       "Windows 7                     84\n",
       "Windows Xp                    68\n",
       "Psexec                        50\n",
       "IE                            49\n",
       "JET                           36\n",
       "Windows Me                    34\n",
       "Outlook Express               34\n",
       "Windows 95                    18\n",
       "Windows Nt                    18\n",
       "Virtual Machine               18\n",
       "Frontpage                     18\n",
       "Systems Management Server     18\n",
       "Name: Product, dtype: int64"
      ]
     },
     "execution_count": 8,
     "metadata": {},
     "output_type": "execute_result"
    }
   ],
   "source": [
    "# The Product of Microsoft\n",
    "all_vul[all_vul[\"Vendor\"] == \"Microsoft\"][\"Product\"].value_counts()"
   ]
  },
  {
   "cell_type": "code",
   "execution_count": null,
   "metadata": {},
   "outputs": [],
   "source": []
  }
 ],
 "metadata": {
  "interpreter": {
   "hash": "916dbcbb3f70747c44a77c7bcd40155683ae19c65e1c03b4aa3499c5328201f1"
  },
  "kernelspec": {
   "display_name": "Python 3.8.10 64-bit",
   "name": "python3"
  },
  "language_info": {
   "codemirror_mode": {
    "name": "ipython",
    "version": 3
   },
   "file_extension": ".py",
   "mimetype": "text/x-python",
   "name": "python",
   "nbconvert_exporter": "python",
   "pygments_lexer": "ipython3",
   "version": "3.8.10"
  },
  "orig_nbformat": 4
 },
 "nbformat": 4,
 "nbformat_minor": 2
}
