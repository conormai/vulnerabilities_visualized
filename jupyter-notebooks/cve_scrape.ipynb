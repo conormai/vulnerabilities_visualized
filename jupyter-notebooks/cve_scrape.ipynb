{
 "cells": [
  {
   "cell_type": "code",
   "execution_count": null,
   "id": "65a9d793-5d8a-4024-af1e-6102c556b82e",
   "metadata": {},
   "outputs": [],
   "source": [
    "import requests\n",
    "from bs4 import BeautifulSoup\n",
    "# This is the website which we will be scraping\n",
    "base_url = \"https://www.cvedetails.com/\" "
   ]
  },
  {
   "cell_type": "code",
   "execution_count": null,
   "id": "74a833b5-ff2c-4af8-82b0-5922ee7e5c3d",
   "metadata": {},
   "outputs": [],
   "source": [
    "def scrape_vendor(url):\n",
    "    print(url)\n",
    "    vendor_page = BeautifulSoup(requests.get(vendor_url).content, \"html.parser\")\n",
    "    stats_table = vendor_page.find(class_=\"stats\")\n",
    "    # print(stats_table.prettify())\n",
    "    for i, row in enumerate(stats_table.find_all(\"tr\")):\n",
    "        # print(i, row.prettify())\n",
    "        l = list(map(lambda x: x.get_text().strip(), row.find_all(class_=\"num\")))\n",
    "        print(i, l)\n",
    "    "
   ]
  },
  {
   "cell_type": "code",
   "execution_count": null,
   "id": "cff6ed9e-778f-47d9-833f-626791a6704a",
   "metadata": {},
   "outputs": [],
   "source": [
    "def scrape_top50(url):\n",
    "    page = requests.get(top_50)\n",
    "\n",
    "    soup = BeautifulSoup(page.content, \"html.parser\")\n",
    "\n",
    "    list_table = soup.find(class_=\"listtable\")\n",
    "    # print(list_table.prettify())\n",
    "    for i, tr in enumerate(list_table.find_all(\"tr\")):\n",
    "        # print(i, tr)\n",
    "        if i != 0 :\n",
    "\n",
    "            row_num, vname, numpro, numvul, *_ = tr.find_all(\"td\")\n",
    "            print(list(map(lambda x: x.get_text().strip(),(vname, numpro, numvul))))\n",
    "            vendor_url = base + vname.find(\"a\")[\"href\"]\n",
    "            scrape_vendor(vendor_url)"
   ]
  },
  {
   "cell_type": "code",
   "execution_count": null,
   "id": "f6b1876c-8e11-4862-a135-226b71341a56",
   "metadata": {},
   "outputs": [],
   "source": [
    "top_50 = \"https://www.cvedetails.com/top-50-vendors.php\"\n",
    "scrape_top50(top_50)"
   ]
  },
  {
   "cell_type": "code",
   "execution_count": null,
   "id": "203f5b47-9d0b-4d4c-bd0d-695239f93215",
   "metadata": {},
   "outputs": [],
   "source": []
  }
 ],
 "metadata": {
  "kernelspec": {
   "display_name": "Python 3 (ipykernel)",
   "language": "python",
   "name": "python3"
  },
  "language_info": {
   "codemirror_mode": {
    "name": "ipython",
    "version": 3
   },
   "file_extension": ".py",
   "mimetype": "text/x-python",
   "name": "python",
   "nbconvert_exporter": "python",
   "pygments_lexer": "ipython3",
   "version": "3.8.6"
  }
 },
 "nbformat": 4,
 "nbformat_minor": 5
}
