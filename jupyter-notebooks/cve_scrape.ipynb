{
 "cells": [
  {
   "cell_type": "code",
   "execution_count": 1,
   "id": "e5d4d54c-f450-4f91-a72e-c430bb0c8bd4",
   "metadata": {},
   "outputs": [
    {
     "name": "stdout",
     "output_type": "stream",
     "text": [
      "Requirement already satisfied: urllib3 in /home/conormai/Documents/personal/CSCE-447/vulerabilities_visualized/.venv/lib/python3.8/site-packages (from -r ../requirements.txt (line 1)) (1.26.7)\n",
      "Requirement already satisfied: beautifulsoup4 in /home/conormai/Documents/personal/CSCE-447/vulerabilities_visualized/.venv/lib/python3.8/site-packages (from -r ../requirements.txt (line 2)) (4.10.0)\n",
      "Requirement already satisfied: pandas in /home/conormai/Documents/personal/CSCE-447/vulerabilities_visualized/.venv/lib/python3.8/site-packages (from -r ../requirements.txt (line 3)) (1.3.3)\n",
      "Requirement already satisfied: soupsieve>1.2 in /home/conormai/Documents/personal/CSCE-447/vulerabilities_visualized/.venv/lib/python3.8/site-packages (from beautifulsoup4->-r ../requirements.txt (line 2)) (2.2.1)\n",
      "Requirement already satisfied: python-dateutil>=2.7.3 in /home/conormai/Documents/personal/CSCE-447/vulerabilities_visualized/.venv/lib/python3.8/site-packages (from pandas->-r ../requirements.txt (line 3)) (2.8.2)\n",
      "Requirement already satisfied: pytz>=2017.3 in /home/conormai/Documents/personal/CSCE-447/vulerabilities_visualized/.venv/lib/python3.8/site-packages (from pandas->-r ../requirements.txt (line 3)) (2021.1)\n",
      "Requirement already satisfied: numpy>=1.17.3 in /home/conormai/Documents/personal/CSCE-447/vulerabilities_visualized/.venv/lib/python3.8/site-packages (from pandas->-r ../requirements.txt (line 3)) (1.21.2)\n",
      "Requirement already satisfied: six>=1.5 in /nix/store/xm6bih9q832krclm5wy9ngcsc3yx3sw9-python3.8-six-1.15.0/lib/python3.8/site-packages (from python-dateutil>=2.7.3->pandas->-r ../requirements.txt (line 3)) (1.15.0)\n"
     ]
    }
   ],
   "source": [
    "!pip install -r ../requirements.txt"
   ]
  },
  {
   "cell_type": "code",
   "execution_count": 1,
   "id": "65a9d793-5d8a-4024-af1e-6102c556b82e",
   "metadata": {},
   "outputs": [],
   "source": [
    "import requests\n",
    "import pandas as pd\n",
    "from bs4 import BeautifulSoup\n",
    "import csv\n",
    "# This is the website which we will be scraping\n",
    "base_url = \"https://www.cvedetails.com/\"\n"
   ]
  },
  {
   "cell_type": "code",
   "execution_count": 2,
   "id": "144c8da8-cb5a-4890-afa0-c338b2b14bcf",
   "metadata": {},
   "outputs": [],
   "source": [
    "headers = [\"#\", \"CVE ID\", \"CWE ID\", \"# of Exploits\", \"Vulnerability Type(s)\", \"Publish Date\", \"Update Date\", \"Score\", \"Gained Access Level\", \"Access\", \"Complexity\", \"Authentication\", \"Confidentiality\", \"Integrity\", \"Availability\"]\n",
    "with open(\"vul_data.csv\", \"w\") as f:\n",
    "    write = csv.writer(f)\n",
    "    write.writerow(headers)\n",
    "\n",
    "def write_row(data):\n",
    "    with open(\"vul_data.csv\", \"a\") as f:\n",
    "        writer = csv.writer(f)\n",
    "        writer.writerow(data)\n",
    "        "
   ]
  },
  {
   "cell_type": "code",
   "execution_count": 3,
   "id": "48066393-ab3d-45c8-bd7a-93d935ce9e74",
   "metadata": {},
   "outputs": [],
   "source": [
    "def scrape_table_vul(url):\n",
    "    search_vul_page = BeautifulSoup(requests.get(url).content, \"html.parser\")\n",
    "    for row in search_vul_page.find_all(class_=\"srrowns\"):\n",
    "        # print(list(zip(headers, list(map(lambda x: x.get_text().strip(), row.find_all(\"td\"))))))\n",
    "        write_row(list(map(lambda x: x.get_text().strip(), row.find_all(\"td\"))))"
   ]
  },
  {
   "cell_type": "code",
   "execution_count": 4,
   "id": "f4ed770b-e277-4b71-b542-1d3adf76ed84",
   "metadata": {},
   "outputs": [],
   "source": [
    "def scrape_year_vul(url):\n",
    "    year_vul_page = BeautifulSoup(requests.get(url).content, \"html.parser\")\n",
    "    pages = []\n",
    "    for page_div in year_vul_page.find_all(class_=\"paging\"):\n",
    "        for page in page_div.find_all(\"a\"):\n",
    "            pages.append(base_url + page[\"href\"])\n",
    "    \n",
    "    for page in pages:\n",
    "        scrape_table_vul(url)\n",
    "    \n",
    "    "
   ]
  },
  {
   "cell_type": "code",
   "execution_count": 5,
   "id": "c618807a-98a4-4014-bfb2-adae5f96de5f",
   "metadata": {},
   "outputs": [
    {
     "name": "stdout",
     "output_type": "stream",
     "text": [
      "https://www.cvedetails.com//vulnerability-list/year-1999/vulnerabilities.html\n",
      "https://www.cvedetails.com//vulnerability-list/year-2000/vulnerabilities.html\n",
      "https://www.cvedetails.com//vulnerability-list/year-2001/vulnerabilities.html\n",
      "https://www.cvedetails.com//vulnerability-list/year-2002/vulnerabilities.html\n",
      "https://www.cvedetails.com//vulnerability-list/year-2003/vulnerabilities.html\n",
      "https://www.cvedetails.com//vulnerability-list/year-2004/vulnerabilities.html\n",
      "https://www.cvedetails.com//vulnerability-list/year-2005/vulnerabilities.html\n",
      "https://www.cvedetails.com//vulnerability-list/year-2006/vulnerabilities.html\n",
      "https://www.cvedetails.com//vulnerability-list/year-2007/vulnerabilities.html\n",
      "https://www.cvedetails.com//vulnerability-list/year-2008/vulnerabilities.html\n",
      "https://www.cvedetails.com//vulnerability-list/year-2009/vulnerabilities.html\n",
      "https://www.cvedetails.com//vulnerability-list/year-2010/vulnerabilities.html\n",
      "https://www.cvedetails.com//vulnerability-list/year-2011/vulnerabilities.html\n",
      "https://www.cvedetails.com//vulnerability-list/year-2012/vulnerabilities.html\n",
      "https://www.cvedetails.com//vulnerability-list/year-2013/vulnerabilities.html\n",
      "https://www.cvedetails.com//vulnerability-list/year-2014/vulnerabilities.html\n",
      "https://www.cvedetails.com//vulnerability-list/year-2015/vulnerabilities.html\n",
      "https://www.cvedetails.com//vulnerability-list/year-2016/vulnerabilities.html\n",
      "https://www.cvedetails.com//vulnerability-list/year-2017/vulnerabilities.html\n",
      "https://www.cvedetails.com//vulnerability-list/year-2018/vulnerabilities.html\n",
      "https://www.cvedetails.com//vulnerability-list/year-2019/vulnerabilities.html\n",
      "https://www.cvedetails.com//vulnerability-list/year-2020/vulnerabilities.html\n",
      "https://www.cvedetails.com//vulnerability-list/year-2021/vulnerabilities.html\n"
     ]
    }
   ],
   "source": [
    "def scrape_vul():\n",
    "    \n",
    "    # Get the urls for each of the years\n",
    "    url = \"https://www.cvedetails.com/browse-by-date.php\"\n",
    "    vul_page = BeautifulSoup(requests.get(url).content, \"html.parser\")\n",
    "    year_urls = []\n",
    "    for i, year in enumerate(vul_page.find(class_=\"stats\").find_all(\"th\")):\n",
    "        if year.find(\"a\"):\n",
    "            year_urls.append(base_url + year.find(\"a\")[\"href\"])\n",
    "    # print(year_urls)\n",
    "    \n",
    "    # Go through each of the pages and add vulenerabilites to the table\n",
    "    for year_url in year_urls:\n",
    "        print(year_url)\n",
    "        scrape_year_vul(year_url)\n",
    "\n",
    "scrape_vul()"
   ]
  },
  {
   "cell_type": "code",
   "execution_count": 6,
   "id": "a02ea0e9-5190-48be-8e21-875bcc1bff12",
   "metadata": {},
   "outputs": [
    {
     "name": "stdout",
     "output_type": "stream",
     "text": [
      "161650\n"
     ]
    }
   ],
   "source": [
    "vul = pd.read_csv(\"vul_data.csv\")\n",
    "print(vul.shape[0])"
   ]
  },
  {
   "cell_type": "code",
   "execution_count": null,
   "id": "115e8c2d-fb8f-4a00-b78e-b7e687b88de3",
   "metadata": {},
   "outputs": [],
   "source": []
  }
 ],
 "metadata": {
  "kernelspec": {
   "display_name": "Python 3 (ipykernel)",
   "language": "python",
   "name": "python3"
  },
  "language_info": {
   "codemirror_mode": {
    "name": "ipython",
    "version": 3
   },
   "file_extension": ".py",
   "mimetype": "text/x-python",
   "name": "python",
   "nbconvert_exporter": "python",
   "pygments_lexer": "ipython3",
   "version": "3.8.6"
  }
 },
 "nbformat": 4,
 "nbformat_minor": 5
}
